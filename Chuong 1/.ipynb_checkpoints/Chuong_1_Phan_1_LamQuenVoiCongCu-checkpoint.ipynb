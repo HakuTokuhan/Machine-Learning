{
 "cells": [
  {
   "cell_type": "markdown",
   "id": "b9bfbd3e",
   "metadata": {},
   "source": [
    "<center>\n",
    "    <h2>CHƯƠNG 1 : TỔNG QUAN VỀ HỌC MÁY</h2>\n",
    "</center>\n",
    "\n",
    "---\n",
    "<img scr='Pic/ML.jpg'>\n",
    "\n",
    "**NỘI DUNG BÀI HỌC:**\n",
    "    1. Trí tuệ nhân tạo\n",
    "    2. Học máy\n",
    "    3. Lịch sử và ứng dụng học máy\n",
    "    4. Các thuật toán học máy\n",
    "        *Học có giám sát\n",
    "        *Học không giám sát\n",
    "        *Học bán giám sát\n",
    "        *Học củng cố\n",
    "    5. Các kiến thức và kỹ năng làm về học máy\n",
    "    6. Chuẩn bị công cụ và môi trường học tập\n",
    "---\n",
    "***Cop"
   ]
  },
  {
   "cell_type": "markdown",
   "id": "fea570b5",
   "metadata": {},
   "source": []
  },
  {
   "cell_type": "markdown",
   "id": "3b31e39b",
   "metadata": {},
   "source": [
    "**BÀI TẬP KIỂM  TRA LẬP TRÌNH PYTHON:**\n",
    "\n",
    "**YÊU CẦU**\n",
    "\n",
    "Nhập vào 2 số nguyên dương từ 1 cho đến 100 thỏa mãn điều kiện chia hết cho a, không chia hết cho b"
   ]
  },
  {
   "cell_type": "code",
   "execution_count": 8,
   "id": "a863258b",
   "metadata": {},
   "outputs": [
    {
     "name": "stdout",
     "output_type": "stream",
     "text": [
      "3\n",
      "4\n",
      "3\n",
      "6\n",
      "9\n",
      "15\n",
      "18\n",
      "21\n",
      "27\n",
      "30\n",
      "33\n",
      "39\n",
      "42\n",
      "45\n",
      "51\n",
      "54\n",
      "57\n",
      "63\n",
      "66\n",
      "69\n",
      "75\n",
      "78\n",
      "81\n",
      "87\n",
      "90\n",
      "93\n",
      "99\n"
     ]
    }
   ],
   "source": [
    "a = int(input())\n",
    "b = int(input())\n",
    "\n",
    "for i in range (1,100):\n",
    "    if (i % a == 0) and (i % b != 0):\n",
    "        print(i)"
   ]
  },
  {
   "cell_type": "markdown",
   "id": "5aca7e32",
   "metadata": {},
   "source": []
  },
  {
   "cell_type": "code",
   "execution_count": 11,
   "id": "8d4856e7",
   "metadata": {},
   "outputs": [
    {
     "name": "stdout",
     "output_type": "stream",
     "text": [
      "Version NUmpy: 1.24.3\n"
     ]
    }
   ],
   "source": [
    "#Kiểm tra thư viện numpy\n",
    "import numpy as np\n",
    "print('Version NUmpy:', np.__version__)"
   ]
  },
  {
   "cell_type": "code",
   "execution_count": 12,
   "id": "e1b51eb9",
   "metadata": {},
   "outputs": [
    {
     "name": "stdout",
     "output_type": "stream",
     "text": [
      "Version Pandas: 2.0.3\n"
     ]
    }
   ],
   "source": [
    "#Kiểm tra thư viện pandas\n",
    "import pandas as pd\n",
    "print('Version Pandas:', pd.__version__)"
   ]
  },
  {
   "cell_type": "code",
   "execution_count": 13,
   "id": "f5c9763d",
   "metadata": {},
   "outputs": [
    {
     "name": "stdout",
     "output_type": "stream",
     "text": [
      "Version NMatplotlib: 3.7.2\n"
     ]
    }
   ],
   "source": [
    "#Kiểm tra thư viện Matplotlib\n",
    "import matplotlib as mpl\n",
    "print('Version NMatplotlib:', mpl.__version__)"
   ]
  },
  {
   "cell_type": "code",
   "execution_count": 14,
   "id": "83671067",
   "metadata": {},
   "outputs": [
    {
     "name": "stdout",
     "output_type": "stream",
     "text": [
      "Version Sklearn: 1.3.0\n"
     ]
    }
   ],
   "source": [
    "#Kiểm tra thư viện sklearn\n",
    "import sklearn as sk\n",
    "print('Version Sklearn:', sk.__version__)"
   ]
  },
  {
   "cell_type": "code",
   "execution_count": null,
   "id": "6157222c",
   "metadata": {},
   "outputs": [],
   "source": []
  },
  {
   "cell_type": "code",
   "execution_count": null,
   "id": "ea03abf5",
   "metadata": {},
   "outputs": [],
   "source": []
  },
  {
   "cell_type": "code",
   "execution_count": null,
   "id": "495b67a0",
   "metadata": {},
   "outputs": [],
   "source": []
  }
 ],
 "metadata": {
  "kernelspec": {
   "display_name": "Python 3 (ipykernel)",
   "language": "python",
   "name": "python3"
  },
  "language_info": {
   "codemirror_mode": {
    "name": "ipython",
    "version": 3
   },
   "file_extension": ".py",
   "mimetype": "text/x-python",
   "name": "python",
   "nbconvert_exporter": "python",
   "pygments_lexer": "ipython3",
   "version": "3.11.5"
  }
 },
 "nbformat": 4,
 "nbformat_minor": 5
}
