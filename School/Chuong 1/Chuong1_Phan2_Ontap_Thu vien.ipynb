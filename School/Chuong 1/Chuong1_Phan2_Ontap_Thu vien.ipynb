{
 "cells": [
  {
   "cell_type": "code",
   "execution_count": null,
   "id": "6ffc84a1",
   "metadata": {},
   "outputs": [],
   "source": []
  },
  {
   "cell_type": "code",
   "execution_count": 1,
   "id": "279e899e",
   "metadata": {},
   "outputs": [
    {
     "name": "stdout",
     "output_type": "stream",
     "text": [
      "[[61 99 28 53 18 44 15 87 33 17 12 51 45 61 60]\n",
      " [43  3 19 65 28 25 88 69 91 10 93 41 92  7 53]\n",
      " [32 63 87 89 91 38 12 27 40  8 91 86 20 93 68]\n",
      " [17 36 54 64 22 72 24 24 60 82 89 73 91 78 14]\n",
      " [78 71 97 14 55 67 88 62 75 60 61 71 68 19  2]\n",
      " [33 21 75 79  4 49 49 74 68 57 16 30 74 31 85]\n",
      " [47 18 80 73 15 72 63 38  4  8  8  2 98 75 30]\n",
      " [45 15 99 76 19 29 12 89 42 77 97 34 51 84 86]\n",
      " [97 44 17 35 25 24 66 29 88 50  5 86 74 20 86]\n",
      " [18 22 67 30 78  2 36 38 45 86 50  5 10 76 37]]\n",
      "Kích thước của ma trận: (10, 15)\n"
     ]
    }
   ],
   "source": [
    "#Gọi thư viện\n",
    "import numpy as np\n",
    "\n",
    "#Tạo 1 ma trận các số nguyên ngẫu nhiên trong khoảng từ 1 - 100\n",
    "matran_A = np.random.randint(1, 100, (10, 15))\n",
    "\n",
    "print(matran_A)\n",
    "print('Kích thước của ma trận:', matran_A.shape)"
   ]
  },
  {
   "cell_type": "code",
   "execution_count": 10,
   "id": "afa49497",
   "metadata": {},
   "outputs": [
    {
     "data": {
      "text/plain": [
       "array([], shape=(0, 15), dtype=int32)"
      ]
     },
     "execution_count": 10,
     "metadata": {},
     "output_type": "execute_result"
    }
   ],
   "source": [
    "#Tách ma trận con số 1: lấy tất cả các hàng và 10 cột đầu tiên\n",
    "matran_A1 = matran_A[10:]\n",
    "matran_A1"
   ]
  },
  {
   "cell_type": "code",
   "execution_count": 3,
   "id": "ed67cd77",
   "metadata": {},
   "outputs": [
    {
     "data": {
      "text/plain": [
       "array([[12, 51, 45, 61, 60],\n",
       "       [93, 41, 92,  7, 53],\n",
       "       [91, 86, 20, 93, 68],\n",
       "       [89, 73, 91, 78, 14],\n",
       "       [61, 71, 68, 19,  2],\n",
       "       [16, 30, 74, 31, 85],\n",
       "       [ 8,  2, 98, 75, 30],\n",
       "       [97, 34, 51, 84, 86],\n",
       "       [ 5, 86, 74, 20, 86],\n",
       "       [50,  5, 10, 76, 37]])"
      ]
     },
     "execution_count": 3,
     "metadata": {},
     "output_type": "execute_result"
    }
   ],
   "source": [
    "#Tách ma trận con số 2: lấy tất cả các hàng và 5 cột cuối cùng\n",
    "matran_A2 = matran_A[:,10:]\n",
    "matran_A2"
   ]
  },
  {
   "cell_type": "code",
   "execution_count": 11,
   "id": "da1e1318",
   "metadata": {},
   "outputs": [],
   "source": [
    "#Cách truy cập dữ liệu trong numpy\n",
    "hangdau = matran_A[0,:]\n",
    "hangdau"
   ]
  },
  {
   "cell_type": "code",
   "execution_count": 12,
   "id": "6fee0b2e",
   "metadata": {},
   "outputs": [
    {
     "data": {
      "text/plain": [
       "array([18, 22, 67, 30, 78,  2, 36, 38, 45, 86, 50,  5, 10, 76, 37])"
      ]
     },
     "execution_count": 12,
     "metadata": {},
     "output_type": "execute_result"
    }
   ],
   "source": [
    "hangcuoi = matran_A[-1,:]\n",
    "hangcuoi"
   ]
  },
  {
   "cell_type": "code",
   "execution_count": 13,
   "id": "cef3ef81",
   "metadata": {},
   "outputs": [
    {
     "data": {
      "text/plain": [
       "61"
      ]
     },
     "execution_count": 13,
     "metadata": {},
     "output_type": "execute_result"
    }
   ],
   "source": [
    "phantu0 = matran_A[0,0]\n",
    "phantu0"
   ]
  },
  {
   "cell_type": "code",
   "execution_count": 16,
   "id": "c44825f3",
   "metadata": {},
   "outputs": [
    {
     "data": {
      "text/plain": [
       "37"
      ]
     },
     "execution_count": 16,
     "metadata": {},
     "output_type": "execute_result"
    }
   ],
   "source": [
    "phantucuoi = matran_A[-1,-1]\n",
    "phantucuoi"
   ]
  },
  {
   "cell_type": "markdown",
   "id": "b1410267",
   "metadata": {},
   "source": [
    "<h1>2. Ôn tập matplotlib</h1>"
   ]
  },
  {
   "cell_type": "code",
   "execution_count": 15,
   "id": "fffba0c5",
   "metadata": {},
   "outputs": [],
   "source": [
    "#Gọi thư viện \n",
    "import matplotlib.pyplot as plt\n",
    "\n",
    "ten_khoa_x = ['K64', 'K65', 'K66', 'K67', 'K68'] \n",
    "so_hs_y = [450, 570, 1520, 820, 200]"
   ]
  },
  {
   "cell_type": "code",
   "execution_count": 26,
   "id": "b34cecbe",
   "metadata": {},
   "outputs": [
    {
     "ename": "NameError",
     "evalue": "name 'plt' is not defined",
     "output_type": "error",
     "traceback": [
      "\u001b[1;31m---------------------------------------------------------------------------\u001b[0m",
      "\u001b[1;31mNameError\u001b[0m                                 Traceback (most recent call last)",
      "Cell \u001b[1;32mIn[26], line 2\u001b[0m\n\u001b[0;32m      1\u001b[0m \u001b[38;5;66;03m#Vẽ biểu đồ dạng cột \u001b[39;00m\n\u001b[1;32m----> 2\u001b[0m plt\u001b[38;5;241m.\u001b[39mbar(ten_khoa_x, so_hs_y, color\u001b[38;5;241m=\u001b[39m\u001b[38;5;124m'\u001b[39m\u001b[38;5;124mbrown\u001b[39m\u001b[38;5;124m'\u001b[39m)\n\u001b[0;32m      4\u001b[0m plt\u001b[38;5;241m.\u001b[39mtitle(\u001b[38;5;124m'\u001b[39m\u001b[38;5;124mBIỂU ĐỒ THỂ HIỆN SỐ LƯỢNG SINH VIÊN THEO TỪNG KHÓA\u001b[39m\u001b[38;5;124m'\u001b[39m) \n\u001b[0;32m      5\u001b[0m plt\u001b[38;5;241m.\u001b[39mgrid(ls\u001b[38;5;241m=\u001b[39m\u001b[38;5;124m'\u001b[39m\u001b[38;5;124m--\u001b[39m\u001b[38;5;124m'\u001b[39m) \n",
      "\u001b[1;31mNameError\u001b[0m: name 'plt' is not defined"
     ]
    }
   ],
   "source": [
    "#Vẽ biểu đồ dạng cột \n",
    "plt.bar(ten_khoa_x, so_hs_y, color='brown')\n",
    "\n",
    "plt.title('BIỂU ĐỒ THỂ HIỆN SỐ LƯỢNG SINH VIÊN THEO TỪNG KHÓA') \n",
    "plt.grid(ls='--') \n",
    "plt.xlabel('Khóa') \n",
    "plt.ylabel('Số lượng')\n",
    "\n",
    "plt.show()\n"
   ]
  },
  {
   "cell_type": "code",
   "execution_count": 21,
   "id": "da7dde4e",
   "metadata": {},
   "outputs": [
    {
     "ename": "NameError",
     "evalue": "name 'plt' is not defined",
     "output_type": "error",
     "traceback": [
      "\u001b[1;31m---------------------------------------------------------------------------\u001b[0m",
      "\u001b[1;31mNameError\u001b[0m                                 Traceback (most recent call last)",
      "Cell \u001b[1;32mIn[21], line 2\u001b[0m\n\u001b[0;32m      1\u001b[0m \u001b[38;5;66;03m#Vẽ biểu đồ dạng hàng\u001b[39;00m\n\u001b[1;32m----> 2\u001b[0m plt\u001b[38;5;241m.\u001b[39mbarh(ten_khoa_x, \n\u001b[0;32m      3\u001b[0m         so_hs_y,\n\u001b[0;32m      4\u001b[0m         color\u001b[38;5;241m=\u001b[39m\u001b[38;5;124m'\u001b[39m\u001b[38;5;124mbrown\u001b[39m\u001b[38;5;124m'\u001b[39m)\n\u001b[0;32m      6\u001b[0m plt\u001b[38;5;241m.\u001b[39mtitle(\u001b[38;5;124m'\u001b[39m\u001b[38;5;124mBIỂU ĐỒ THỂ HIỆN SỐ LƯỢNG SINH VIÊN THEO TỪNG KHÓA\u001b[39m\u001b[38;5;124m'\u001b[39m)\n\u001b[0;32m      7\u001b[0m plt\u001b[38;5;241m.\u001b[39mgrid(ls\u001b[38;5;241m=\u001b[39m\u001b[38;5;124m'\u001b[39m\u001b[38;5;124m--\u001b[39m\u001b[38;5;124m'\u001b[39m)\n",
      "\u001b[1;31mNameError\u001b[0m: name 'plt' is not defined"
     ]
    }
   ],
   "source": [
    "#Vẽ biểu đồ dạng hàng\n",
    "plt.barh(ten_khoa_x, \n",
    "        so_hs_y,\n",
    "        color='brown')\n",
    "\n",
    "plt.title('BIỂU ĐỒ THỂ HIỆN SỐ LƯỢNG SINH VIÊN THEO TỪNG KHÓA')\n",
    "plt.grid(ls='--')\n",
    "plt.xlabel('Khóa')\n",
    "plt.ylabel('Số lượng')\n",
    "\n",
    "plt.show()\n"
   ]
  },
  {
   "cell_type": "code",
   "execution_count": 23,
   "id": "4ee4b65e",
   "metadata": {},
   "outputs": [
    {
     "ename": "NameError",
     "evalue": "name 'plt' is not defined",
     "output_type": "error",
     "traceback": [
      "\u001b[1;31m---------------------------------------------------------------------------\u001b[0m",
      "\u001b[1;31mNameError\u001b[0m                                 Traceback (most recent call last)",
      "Cell \u001b[1;32mIn[23], line 2\u001b[0m\n\u001b[0;32m      1\u001b[0m \u001b[38;5;66;03m#Vẽ biểu đồ dạng đường\u001b[39;00m\n\u001b[1;32m----> 2\u001b[0m plt\u001b[38;5;241m.\u001b[39mplot(ten_khoa_A,\n\u001b[0;32m      3\u001b[0m         so_hs_y,\n\u001b[0;32m      4\u001b[0m         \u001b[38;5;124m'\u001b[39m\u001b[38;5;124mb-o\u001b[39m\u001b[38;5;124m'\u001b[39m,ms\u001b[38;5;241m=\u001b[39m\u001b[38;5;241m10\u001b[39m)\n\u001b[0;32m      6\u001b[0m plt\u001b[38;5;241m.\u001b[39mtitle(\u001b[38;5;124m'\u001b[39m\u001b[38;5;124mBIỂU ĐỒ THỂ HIỆN SỐ LƯỢNG SINH VIÊN THEO TỪNG KHÓA\u001b[39m\u001b[38;5;124m'\u001b[39m)\n\u001b[0;32m      7\u001b[0m plt\u001b[38;5;241m.\u001b[39mgrid(ls\u001b[38;5;241m=\u001b[39m\u001b[38;5;124m'\u001b[39m\u001b[38;5;124m--\u001b[39m\u001b[38;5;124m'\u001b[39m)\n",
      "\u001b[1;31mNameError\u001b[0m: name 'plt' is not defined"
     ]
    }
   ],
   "source": [
    "#Vẽ biểu đồ dạng đường\n",
    "plt.plot(ten_khoa_A,\n",
    "        so_hs_y,\n",
    "        'b-o',ms=10)\n",
    "\n",
    "plt.title('BIỂU ĐỒ THỂ HIỆN SỐ LƯỢNG SINH VIÊN THEO TỪNG KHÓA')\n",
    "plt.grid(ls='--')\n",
    "plt.xlabel('Khóa')\n",
    "plt.ylabel('Số lượng')\n",
    "\n",
    "plt.show()"
   ]
  },
  {
   "cell_type": "code",
   "execution_count": 25,
   "id": "0a303c38",
   "metadata": {},
   "outputs": [
    {
     "ename": "NameError",
     "evalue": "name 'plt' is not defined",
     "output_type": "error",
     "traceback": [
      "\u001b[1;31m---------------------------------------------------------------------------\u001b[0m",
      "\u001b[1;31mNameError\u001b[0m                                 Traceback (most recent call last)",
      "Cell \u001b[1;32mIn[25], line 2\u001b[0m\n\u001b[0;32m      1\u001b[0m \u001b[38;5;66;03m#Vẽ biểu đồ tròn\u001b[39;00m\n\u001b[1;32m----> 2\u001b[0m plt\u001b[38;5;241m.\u001b[39mpie(so_hs_y,\n\u001b[0;32m      3\u001b[0m        labels\u001b[38;5;241m=\u001b[39mten_khoa_x,\n\u001b[0;32m      4\u001b[0m        autopct\u001b[38;5;241m=\u001b[39m\u001b[38;5;124m'\u001b[39m\u001b[38;5;132;01m%.1f\u001b[39;00m\u001b[38;5;132;01m%%\u001b[39;00m\u001b[38;5;124m'\u001b[39m,\n\u001b[0;32m      5\u001b[0m        wedgeprops\u001b[38;5;241m=\u001b[39m\u001b[38;5;28mdict\u001b[39m(width\u001b[38;5;241m=\u001b[39m\u001b[38;5;241m0.7\u001b[39m, edgecolor\u001b[38;5;241m=\u001b[39m\u001b[38;5;124m'\u001b[39m\u001b[38;5;124mw\u001b[39m\u001b[38;5;124m'\u001b[39m))\n\u001b[0;32m      7\u001b[0m plt\u001b[38;5;241m.\u001b[39mtitle(\u001b[38;5;124m'\u001b[39m\u001b[38;5;124mBIỂU ĐỒ THỂ HIỆN SỐ LƯỢNG SINH VIÊN THEO TỪNG KHÓA\u001b[39m\u001b[38;5;124m'\u001b[39m)\n\u001b[0;32m      8\u001b[0m plt\u001b[38;5;241m.\u001b[39mshow()\n",
      "\u001b[1;31mNameError\u001b[0m: name 'plt' is not defined"
     ]
    }
   ],
   "source": [
    "#Vẽ biểu đồ tròn\n",
    "plt.pie(so_hs_y,\n",
    "       labels=ten_khoa_x,\n",
    "       autopct='%.1f%%',\n",
    "       wedgeprops=dict(width=0.7, edgecolor='w'))\n",
    "\n",
    "plt.title('BIỂU ĐỒ THỂ HIỆN SỐ LƯỢNG SINH VIÊN THEO TỪNG KHÓA')\n",
    "plt.show()"
   ]
  },
  {
   "cell_type": "code",
   "execution_count": 28,
   "id": "5c9b7002",
   "metadata": {},
   "outputs": [
    {
     "name": "stdout",
     "output_type": "stream",
     "text": [
      "<class 'pandas.core.frame.DataFrame'>\n",
      "RangeIndex: 1338 entries, 0 to 1337\n",
      "Data columns (total 25 columns):\n",
      " #   Column                       Non-Null Count  Dtype  \n",
      "---  ------                       --------------  -----  \n",
      " 0   Title                        1338 non-null   object \n",
      " 1   Year                         1338 non-null   int64  \n",
      " 2   Genres                       1338 non-null   object \n",
      " 3   Language                     1333 non-null   object \n",
      " 4   Country                      1338 non-null   object \n",
      " 5   Content Rating               1316 non-null   object \n",
      " 6   Duration                     1338 non-null   int64  \n",
      " 7   Aspect Ratio                 1308 non-null   float64\n",
      " 8   Budget                       1281 non-null   float64\n",
      " 9   Gross Earnings               1086 non-null   float64\n",
      " 10  Director                     1338 non-null   object \n",
      " 11  Actor 1                      1338 non-null   object \n",
      " 12  Actor 2                      1338 non-null   object \n",
      " 13  Actor 3                      1336 non-null   object \n",
      " 14  Facebook Likes - Director    1338 non-null   int64  \n",
      " 15  Facebook Likes - Actor 1     1338 non-null   int64  \n",
      " 16  Facebook Likes - Actor 2     1338 non-null   int64  \n",
      " 17  Facebook Likes - Actor 3     1336 non-null   float64\n",
      " 18  Facebook Likes - cast Total  1338 non-null   int64  \n",
      " 19  Facebook likes - Movie       1338 non-null   int64  \n",
      " 20  Facenumber in posters        1338 non-null   int64  \n",
      " 21  User Votes                   1338 non-null   int64  \n",
      " 22  Reviews by Users             1338 non-null   int64  \n",
      " 23  Reviews by Crtiics           1335 non-null   float64\n",
      " 24  IMDB Score                   1338 non-null   float64\n",
      "dtypes: float64(6), int64(10), object(9)\n",
      "memory usage: 261.5+ KB\n"
     ]
    }
   ],
   "source": [
    "import pandas as pd\n",
    "df_movie1 = pd.read_excel('Data/Data_Movies.xlsx',\n",
    "                         sheet_name='1900s')\n",
    "df_movie1.info()"
   ]
  },
  {
   "cell_type": "code",
   "execution_count": 29,
   "id": "8103da5c",
   "metadata": {},
   "outputs": [
    {
     "data": {
      "text/html": [
       "<div>\n",
       "<style scoped>\n",
       "    .dataframe tbody tr th:only-of-type {\n",
       "        vertical-align: middle;\n",
       "    }\n",
       "\n",
       "    .dataframe tbody tr th {\n",
       "        vertical-align: top;\n",
       "    }\n",
       "\n",
       "    .dataframe thead th {\n",
       "        text-align: right;\n",
       "    }\n",
       "</style>\n",
       "<table border=\"1\" class=\"dataframe\">\n",
       "  <thead>\n",
       "    <tr style=\"text-align: right;\">\n",
       "      <th></th>\n",
       "      <th>0</th>\n",
       "      <th>1</th>\n",
       "      <th>2</th>\n",
       "      <th>3</th>\n",
       "      <th>4</th>\n",
       "      <th>5</th>\n",
       "      <th>6</th>\n",
       "      <th>7</th>\n",
       "      <th>8</th>\n",
       "      <th>9</th>\n",
       "      <th>...</th>\n",
       "      <th>15</th>\n",
       "      <th>16</th>\n",
       "      <th>17</th>\n",
       "      <th>18</th>\n",
       "      <th>19</th>\n",
       "      <th>20</th>\n",
       "      <th>21</th>\n",
       "      <th>22</th>\n",
       "      <th>23</th>\n",
       "      <th>24</th>\n",
       "    </tr>\n",
       "  </thead>\n",
       "  <tbody>\n",
       "    <tr>\n",
       "      <th>0</th>\n",
       "      <td>127 Hours</td>\n",
       "      <td>2010.0</td>\n",
       "      <td>Adventure|Biography|Drama|Thriller</td>\n",
       "      <td>English</td>\n",
       "      <td>USA</td>\n",
       "      <td>R</td>\n",
       "      <td>94.0</td>\n",
       "      <td>1.85</td>\n",
       "      <td>18000000.0</td>\n",
       "      <td>18329466.0</td>\n",
       "      <td>...</td>\n",
       "      <td>11000.0</td>\n",
       "      <td>642.0</td>\n",
       "      <td>223.0</td>\n",
       "      <td>11984</td>\n",
       "      <td>63000</td>\n",
       "      <td>0.0</td>\n",
       "      <td>279179</td>\n",
       "      <td>440.0</td>\n",
       "      <td>450.0</td>\n",
       "      <td>7.6</td>\n",
       "    </tr>\n",
       "    <tr>\n",
       "      <th>1</th>\n",
       "      <td>3 Backyards</td>\n",
       "      <td>2010.0</td>\n",
       "      <td>Drama</td>\n",
       "      <td>English</td>\n",
       "      <td>USA</td>\n",
       "      <td>R</td>\n",
       "      <td>88.0</td>\n",
       "      <td>NaN</td>\n",
       "      <td>300000.0</td>\n",
       "      <td>NaN</td>\n",
       "      <td>...</td>\n",
       "      <td>795.0</td>\n",
       "      <td>659.0</td>\n",
       "      <td>301.0</td>\n",
       "      <td>1884</td>\n",
       "      <td>92</td>\n",
       "      <td>0.0</td>\n",
       "      <td>554</td>\n",
       "      <td>23.0</td>\n",
       "      <td>20.0</td>\n",
       "      <td>5.2</td>\n",
       "    </tr>\n",
       "    <tr>\n",
       "      <th>2</th>\n",
       "      <td>3</td>\n",
       "      <td>2010.0</td>\n",
       "      <td>Comedy|Drama|Romance</td>\n",
       "      <td>German</td>\n",
       "      <td>Germany</td>\n",
       "      <td>Unrated</td>\n",
       "      <td>119.0</td>\n",
       "      <td>2.35</td>\n",
       "      <td>NaN</td>\n",
       "      <td>59774.0</td>\n",
       "      <td>...</td>\n",
       "      <td>24.0</td>\n",
       "      <td>20.0</td>\n",
       "      <td>9.0</td>\n",
       "      <td>69</td>\n",
       "      <td>2000</td>\n",
       "      <td>0.0</td>\n",
       "      <td>4212</td>\n",
       "      <td>18.0</td>\n",
       "      <td>76.0</td>\n",
       "      <td>6.8</td>\n",
       "    </tr>\n",
       "    <tr>\n",
       "      <th>3</th>\n",
       "      <td>8: The Mormon Proposition</td>\n",
       "      <td>2010.0</td>\n",
       "      <td>Documentary</td>\n",
       "      <td>English</td>\n",
       "      <td>USA</td>\n",
       "      <td>R</td>\n",
       "      <td>80.0</td>\n",
       "      <td>1.78</td>\n",
       "      <td>2500000.0</td>\n",
       "      <td>99851.0</td>\n",
       "      <td>...</td>\n",
       "      <td>191.0</td>\n",
       "      <td>12.0</td>\n",
       "      <td>5.0</td>\n",
       "      <td>210</td>\n",
       "      <td>0</td>\n",
       "      <td>0.0</td>\n",
       "      <td>1138</td>\n",
       "      <td>30.0</td>\n",
       "      <td>28.0</td>\n",
       "      <td>7.1</td>\n",
       "    </tr>\n",
       "    <tr>\n",
       "      <th>4</th>\n",
       "      <td>A Turtle's Tale: Sammy's Adventures</td>\n",
       "      <td>2010.0</td>\n",
       "      <td>Adventure|Animation|Family</td>\n",
       "      <td>English</td>\n",
       "      <td>France</td>\n",
       "      <td>PG</td>\n",
       "      <td>88.0</td>\n",
       "      <td>2.35</td>\n",
       "      <td>NaN</td>\n",
       "      <td>NaN</td>\n",
       "      <td>...</td>\n",
       "      <td>783.0</td>\n",
       "      <td>749.0</td>\n",
       "      <td>602.0</td>\n",
       "      <td>3874</td>\n",
       "      <td>0</td>\n",
       "      <td>2.0</td>\n",
       "      <td>5385</td>\n",
       "      <td>22.0</td>\n",
       "      <td>56.0</td>\n",
       "      <td>6.1</td>\n",
       "    </tr>\n",
       "    <tr>\n",
       "      <th>...</th>\n",
       "      <td>...</td>\n",
       "      <td>...</td>\n",
       "      <td>...</td>\n",
       "      <td>...</td>\n",
       "      <td>...</td>\n",
       "      <td>...</td>\n",
       "      <td>...</td>\n",
       "      <td>...</td>\n",
       "      <td>...</td>\n",
       "      <td>...</td>\n",
       "      <td>...</td>\n",
       "      <td>...</td>\n",
       "      <td>...</td>\n",
       "      <td>...</td>\n",
       "      <td>...</td>\n",
       "      <td>...</td>\n",
       "      <td>...</td>\n",
       "      <td>...</td>\n",
       "      <td>...</td>\n",
       "      <td>...</td>\n",
       "      <td>...</td>\n",
       "    </tr>\n",
       "    <tr>\n",
       "      <th>1599</th>\n",
       "      <td>War &amp; Peace</td>\n",
       "      <td>NaN</td>\n",
       "      <td>Drama|History|Romance|War</td>\n",
       "      <td>English</td>\n",
       "      <td>UK</td>\n",
       "      <td>TV-14</td>\n",
       "      <td>NaN</td>\n",
       "      <td>16.00</td>\n",
       "      <td>NaN</td>\n",
       "      <td>NaN</td>\n",
       "      <td>...</td>\n",
       "      <td>1000.0</td>\n",
       "      <td>888.0</td>\n",
       "      <td>502.0</td>\n",
       "      <td>4528</td>\n",
       "      <td>11000</td>\n",
       "      <td>1.0</td>\n",
       "      <td>9277</td>\n",
       "      <td>44.0</td>\n",
       "      <td>10.0</td>\n",
       "      <td>8.2</td>\n",
       "    </tr>\n",
       "    <tr>\n",
       "      <th>1600</th>\n",
       "      <td>Wings</td>\n",
       "      <td>NaN</td>\n",
       "      <td>Comedy|Drama</td>\n",
       "      <td>English</td>\n",
       "      <td>USA</td>\n",
       "      <td>NaN</td>\n",
       "      <td>30.0</td>\n",
       "      <td>1.33</td>\n",
       "      <td>NaN</td>\n",
       "      <td>NaN</td>\n",
       "      <td>...</td>\n",
       "      <td>685.0</td>\n",
       "      <td>511.0</td>\n",
       "      <td>424.0</td>\n",
       "      <td>1884</td>\n",
       "      <td>1000</td>\n",
       "      <td>5.0</td>\n",
       "      <td>7646</td>\n",
       "      <td>56.0</td>\n",
       "      <td>19.0</td>\n",
       "      <td>7.3</td>\n",
       "    </tr>\n",
       "    <tr>\n",
       "      <th>1601</th>\n",
       "      <td>Wolf Creek</td>\n",
       "      <td>NaN</td>\n",
       "      <td>Drama|Horror|Thriller</td>\n",
       "      <td>English</td>\n",
       "      <td>Australia</td>\n",
       "      <td>NaN</td>\n",
       "      <td>NaN</td>\n",
       "      <td>2.00</td>\n",
       "      <td>NaN</td>\n",
       "      <td>NaN</td>\n",
       "      <td>...</td>\n",
       "      <td>511.0</td>\n",
       "      <td>457.0</td>\n",
       "      <td>206.0</td>\n",
       "      <td>1617</td>\n",
       "      <td>954</td>\n",
       "      <td>0.0</td>\n",
       "      <td>726</td>\n",
       "      <td>6.0</td>\n",
       "      <td>2.0</td>\n",
       "      <td>7.1</td>\n",
       "    </tr>\n",
       "    <tr>\n",
       "      <th>1602</th>\n",
       "      <td>Wuthering Heights</td>\n",
       "      <td>NaN</td>\n",
       "      <td>Drama|Romance</td>\n",
       "      <td>English</td>\n",
       "      <td>UK</td>\n",
       "      <td>NaN</td>\n",
       "      <td>142.0</td>\n",
       "      <td>NaN</td>\n",
       "      <td>NaN</td>\n",
       "      <td>NaN</td>\n",
       "      <td>...</td>\n",
       "      <td>27000.0</td>\n",
       "      <td>698.0</td>\n",
       "      <td>427.0</td>\n",
       "      <td>29196</td>\n",
       "      <td>0</td>\n",
       "      <td>2.0</td>\n",
       "      <td>6053</td>\n",
       "      <td>33.0</td>\n",
       "      <td>9.0</td>\n",
       "      <td>7.7</td>\n",
       "    </tr>\n",
       "    <tr>\n",
       "      <th>1603</th>\n",
       "      <td>Yu-Gi-Oh! Duel Monsters</td>\n",
       "      <td>NaN</td>\n",
       "      <td>Action|Adventure|Animation|Family|Fantasy</td>\n",
       "      <td>Japanese</td>\n",
       "      <td>Japan</td>\n",
       "      <td>NaN</td>\n",
       "      <td>24.0</td>\n",
       "      <td>NaN</td>\n",
       "      <td>NaN</td>\n",
       "      <td>NaN</td>\n",
       "      <td>...</td>\n",
       "      <td>0.0</td>\n",
       "      <td>NaN</td>\n",
       "      <td>NaN</td>\n",
       "      <td>0</td>\n",
       "      <td>124</td>\n",
       "      <td>0.0</td>\n",
       "      <td>12417</td>\n",
       "      <td>51.0</td>\n",
       "      <td>6.0</td>\n",
       "      <td>7.0</td>\n",
       "    </tr>\n",
       "  </tbody>\n",
       "</table>\n",
       "<p>1604 rows × 25 columns</p>\n",
       "</div>"
      ],
      "text/plain": [
       "                                        0       1   \\\n",
       "0                               127 Hours   2010.0   \n",
       "1                             3 Backyards   2010.0   \n",
       "2                                       3   2010.0   \n",
       "3               8: The Mormon Proposition   2010.0   \n",
       "4     A Turtle's Tale: Sammy's Adventures   2010.0   \n",
       "...                                    ...     ...   \n",
       "1599              War & Peace                  NaN   \n",
       "1600                    Wings                  NaN   \n",
       "1601               Wolf Creek                  NaN   \n",
       "1602        Wuthering Heights                  NaN   \n",
       "1603  Yu-Gi-Oh! Duel Monsters                  NaN   \n",
       "\n",
       "                                             2         3          4        5   \\\n",
       "0            Adventure|Biography|Drama|Thriller   English        USA        R   \n",
       "1                                         Drama   English        USA        R   \n",
       "2                          Comedy|Drama|Romance    German    Germany  Unrated   \n",
       "3                                   Documentary   English        USA        R   \n",
       "4                    Adventure|Animation|Family   English     France       PG   \n",
       "...                                         ...       ...        ...      ...   \n",
       "1599                  Drama|History|Romance|War   English         UK    TV-14   \n",
       "1600                               Comedy|Drama   English        USA      NaN   \n",
       "1601                      Drama|Horror|Thriller   English  Australia      NaN   \n",
       "1602                              Drama|Romance   English         UK      NaN   \n",
       "1603  Action|Adventure|Animation|Family|Fantasy  Japanese      Japan      NaN   \n",
       "\n",
       "         6      7           8           9   ...       15     16     17     18  \\\n",
       "0      94.0   1.85  18000000.0  18329466.0  ...  11000.0  642.0  223.0  11984   \n",
       "1      88.0    NaN    300000.0         NaN  ...    795.0  659.0  301.0   1884   \n",
       "2     119.0   2.35         NaN     59774.0  ...     24.0   20.0    9.0     69   \n",
       "3      80.0   1.78   2500000.0     99851.0  ...    191.0   12.0    5.0    210   \n",
       "4      88.0   2.35         NaN         NaN  ...    783.0  749.0  602.0   3874   \n",
       "...     ...    ...         ...         ...  ...      ...    ...    ...    ...   \n",
       "1599    NaN  16.00         NaN         NaN  ...   1000.0  888.0  502.0   4528   \n",
       "1600   30.0   1.33         NaN         NaN  ...    685.0  511.0  424.0   1884   \n",
       "1601    NaN   2.00         NaN         NaN  ...    511.0  457.0  206.0   1617   \n",
       "1602  142.0    NaN         NaN         NaN  ...  27000.0  698.0  427.0  29196   \n",
       "1603   24.0    NaN         NaN         NaN  ...      0.0    NaN    NaN      0   \n",
       "\n",
       "         19   20      21     22     23   24  \n",
       "0     63000  0.0  279179  440.0  450.0  7.6  \n",
       "1        92  0.0     554   23.0   20.0  5.2  \n",
       "2      2000  0.0    4212   18.0   76.0  6.8  \n",
       "3         0  0.0    1138   30.0   28.0  7.1  \n",
       "4         0  2.0    5385   22.0   56.0  6.1  \n",
       "...     ...  ...     ...    ...    ...  ...  \n",
       "1599  11000  1.0    9277   44.0   10.0  8.2  \n",
       "1600   1000  5.0    7646   56.0   19.0  7.3  \n",
       "1601    954  0.0     726    6.0    2.0  7.1  \n",
       "1602      0  2.0    6053   33.0    9.0  7.7  \n",
       "1603    124  0.0   12417   51.0    6.0  7.0  \n",
       "\n",
       "[1604 rows x 25 columns]"
      ]
     },
     "execution_count": 29,
     "metadata": {},
     "output_type": "execute_result"
    }
   ],
   "source": [
    "df_movie3 = pd.read_excel('Data/Data_Movies.xlsx',\n",
    "                         sheet_name='2010s',\n",
    "                         skiprows=3,\n",
    "                         header=None)\n",
    "df_movie3"
   ]
  },
  {
   "cell_type": "code",
   "execution_count": null,
   "id": "40498aa1",
   "metadata": {},
   "outputs": [],
   "source": []
  },
  {
   "cell_type": "code",
   "execution_count": null,
   "id": "44ccfdab",
   "metadata": {},
   "outputs": [],
   "source": []
  },
  {
   "cell_type": "code",
   "execution_count": null,
   "id": "3bb670bc",
   "metadata": {},
   "outputs": [],
   "source": []
  },
  {
   "cell_type": "code",
   "execution_count": null,
   "id": "795fdae4",
   "metadata": {},
   "outputs": [],
   "source": []
  },
  {
   "cell_type": "code",
   "execution_count": null,
   "id": "c3449453",
   "metadata": {},
   "outputs": [],
   "source": []
  }
 ],
 "metadata": {
  "kernelspec": {
   "display_name": "Python 3 (ipykernel)",
   "language": "python",
   "name": "python3"
  },
  "language_info": {
   "codemirror_mode": {
    "name": "ipython",
    "version": 3
   },
   "file_extension": ".py",
   "mimetype": "text/x-python",
   "name": "python",
   "nbconvert_exporter": "python",
   "pygments_lexer": "ipython3",
   "version": "3.11.5"
  }
 },
 "nbformat": 4,
 "nbformat_minor": 5
}
