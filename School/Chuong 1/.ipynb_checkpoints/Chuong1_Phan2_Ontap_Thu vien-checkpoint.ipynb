{
 "cells": [
  {
   "cell_type": "code",
   "execution_count": null,
   "id": "0f75c412",
   "metadata": {},
   "outputs": [],
   "source": []
  },
  {
   "cell_type": "code",
   "execution_count": 1,
   "id": "261b520b",
   "metadata": {},
   "outputs": [
    {
     "name": "stdout",
     "output_type": "stream",
     "text": [
      "[[61 99 28 53 18 44 15 87 33 17 12 51 45 61 60]\n",
      " [43  3 19 65 28 25 88 69 91 10 93 41 92  7 53]\n",
      " [32 63 87 89 91 38 12 27 40  8 91 86 20 93 68]\n",
      " [17 36 54 64 22 72 24 24 60 82 89 73 91 78 14]\n",
      " [78 71 97 14 55 67 88 62 75 60 61 71 68 19  2]\n",
      " [33 21 75 79  4 49 49 74 68 57 16 30 74 31 85]\n",
      " [47 18 80 73 15 72 63 38  4  8  8  2 98 75 30]\n",
      " [45 15 99 76 19 29 12 89 42 77 97 34 51 84 86]\n",
      " [97 44 17 35 25 24 66 29 88 50  5 86 74 20 86]\n",
      " [18 22 67 30 78  2 36 38 45 86 50  5 10 76 37]]\n",
      "Kích thước của ma trận: (10, 15)\n"
     ]
    }
   ],
   "source": [
    "#Gọi thư viện\n",
    "import numpy as np\n",
    "\n",
    "#Tạo 1 ma trận các số nguyên ngẫu nhiên trong khoảng từ 1 - 100\n",
    "matran_A = np.random.randint(1, 100, (10, 15))\n",
    "\n",
    "print(matran_A)\n",
    "print('Kích thước của ma trận:', matran_A.shape)"
   ]
  },
  {
   "cell_type": "code",
   "execution_count": 10,
   "id": "2ff6ffff",
   "metadata": {},
   "outputs": [
    {
     "data": {
      "text/plain": [
       "array([], shape=(0, 15), dtype=int32)"
      ]
     },
     "execution_count": 10,
     "metadata": {},
     "output_type": "execute_result"
    }
   ],
   "source": [
    "#Tách ma trận con số 1: lấy tất cả các hàng và 10 cột đầu tiên\n",
    "matran_A1 = matran_A[10:]\n",
    "matran_A1"
   ]
  },
  {
   "cell_type": "code",
   "execution_count": 3,
   "id": "1298e489",
   "metadata": {},
   "outputs": [
    {
     "data": {
      "text/plain": [
       "array([[12, 51, 45, 61, 60],\n",
       "       [93, 41, 92,  7, 53],\n",
       "       [91, 86, 20, 93, 68],\n",
       "       [89, 73, 91, 78, 14],\n",
       "       [61, 71, 68, 19,  2],\n",
       "       [16, 30, 74, 31, 85],\n",
       "       [ 8,  2, 98, 75, 30],\n",
       "       [97, 34, 51, 84, 86],\n",
       "       [ 5, 86, 74, 20, 86],\n",
       "       [50,  5, 10, 76, 37]])"
      ]
     },
     "execution_count": 3,
     "metadata": {},
     "output_type": "execute_result"
    }
   ],
   "source": [
    "#Tách ma trận con số 2: lấy tất cả các hàng và 5 cột cuối cùng\n",
    "matran_A2 = matran_A[:,10:]\n",
    "matran_A2"
   ]
  },
  {
   "cell_type": "code",
   "execution_count": 11,
   "id": "fb206ade",
   "metadata": {},
   "outputs": [],
   "source": [
    "#Cách truy cập dữ liệu trong numpy\n",
    "hangdau = matran_A[0,:]\n",
    "hangdau"
   ]
  },
  {
   "cell_type": "code",
   "execution_count": 12,
   "id": "8ead8ae7",
   "metadata": {},
   "outputs": [
    {
     "data": {
      "text/plain": [
       "array([18, 22, 67, 30, 78,  2, 36, 38, 45, 86, 50,  5, 10, 76, 37])"
      ]
     },
     "execution_count": 12,
     "metadata": {},
     "output_type": "execute_result"
    }
   ],
   "source": [
    "hangcuoi = matran_A[-1,:]\n",
    "hangcuoi"
   ]
  },
  {
   "cell_type": "code",
   "execution_count": 13,
   "id": "6b9e4e77",
   "metadata": {},
   "outputs": [
    {
     "data": {
      "text/plain": [
       "61"
      ]
     },
     "execution_count": 13,
     "metadata": {},
     "output_type": "execute_result"
    }
   ],
   "source": [
    "phantu0 = matran_A[0,0]\n",
    "phantu0"
   ]
  },
  {
   "cell_type": "code",
   "execution_count": 16,
   "id": "d579e1b7",
   "metadata": {},
   "outputs": [
    {
     "data": {
      "text/plain": [
       "37"
      ]
     },
     "execution_count": 16,
     "metadata": {},
     "output_type": "execute_result"
    }
   ],
   "source": [
    "phantucuoi = matran_A[-1,-1]\n",
    "phantucuoi"
   ]
  },
  {
   "cell_type": "markdown",
   "id": "1c44eed4",
   "metadata": {},
   "source": [
    "<h1>2. Ôn tập matplotlib</h1>"
   ]
  },
  {
   "cell_type": "code",
   "execution_count": 15,
   "id": "db0c8444",
   "metadata": {},
   "outputs": [],
   "source": [
    "#Gọi thư viện \n",
    "import matplotlib.pyplot as plt\n",
    "\n",
    "ten_khoa_x = ['K64', 'K65', 'K66', 'K67', 'K68'] \n",
    "so_hs_y = [450, 570, 1520, 820, 200]"
   ]
  },
  {
   "cell_type": "code",
   "execution_count": 22,
   "id": "3bf873ef",
   "metadata": {},
   "outputs": [
    {
     "ename": "NameError",
     "evalue": "name 'plt' is not defined",
     "output_type": "error",
     "traceback": [
      "\u001b[1;31m---------------------------------------------------------------------------\u001b[0m",
      "\u001b[1;31mNameError\u001b[0m                                 Traceback (most recent call last)",
      "Cell \u001b[1;32mIn[22], line 2\u001b[0m\n\u001b[0;32m      1\u001b[0m \u001b[38;5;66;03m#Vẽ biểu đồ dạng cột\u001b[39;00m\n\u001b[1;32m----> 2\u001b[0m plt\u001b[38;5;241m.\u001b[39mbar(ten_khoa_x, \n\u001b[0;32m      3\u001b[0m         so_hs_y,\n\u001b[0;32m      4\u001b[0m         color\u001b[38;5;241m=\u001b[39m\u001b[38;5;124m'\u001b[39m\u001b[38;5;124mbrown\u001b[39m\u001b[38;5;124m'\u001b[39m)\n\u001b[0;32m      6\u001b[0m plt\u001b[38;5;241m.\u001b[39mtitle(\u001b[38;5;124m'\u001b[39m\u001b[38;5;124mBIỂU ĐỒ THỂ HIỆN SỐ LƯỢNG SINH VIÊN THEO TỪNG KHÓA\u001b[39m\u001b[38;5;124m'\u001b[39m)\n\u001b[0;32m      7\u001b[0m plt\u001b[38;5;241m.\u001b[39mgrid(ls\u001b[38;5;241m=\u001b[39m\u001b[38;5;124m'\u001b[39m\u001b[38;5;124m--\u001b[39m\u001b[38;5;124m'\u001b[39m)\n",
      "\u001b[1;31mNameError\u001b[0m: name 'plt' is not defined"
     ]
    }
   ],
   "source": [
    "#Vẽ biểu đồ dạng cột \n",
    "plt.bar(ten_khoa_x, so_hs_y, color='brown')\n",
    "\n",
    "plt.title('BIỂU ĐỒ THỂ HIỆN SỐ LƯỢNG SINH VIÊN THEO TỪNG KHÓA') \n",
    "plt.grid(ls='--') \n",
    "plt.xlabel('Khóa') \n",
    "plt.ylabel('Số lượng')\n",
    "\n",
    "plt.show()\n"
   ]
  },
  {
   "cell_type": "code",
   "execution_count": 21,
   "id": "d6584475",
   "metadata": {},
   "outputs": [
    {
     "ename": "NameError",
     "evalue": "name 'plt' is not defined",
     "output_type": "error",
     "traceback": [
      "\u001b[1;31m---------------------------------------------------------------------------\u001b[0m",
      "\u001b[1;31mNameError\u001b[0m                                 Traceback (most recent call last)",
      "Cell \u001b[1;32mIn[21], line 2\u001b[0m\n\u001b[0;32m      1\u001b[0m \u001b[38;5;66;03m#Vẽ biểu đồ dạng hàng\u001b[39;00m\n\u001b[1;32m----> 2\u001b[0m plt\u001b[38;5;241m.\u001b[39mbarh(ten_khoa_x, \n\u001b[0;32m      3\u001b[0m         so_hs_y,\n\u001b[0;32m      4\u001b[0m         color\u001b[38;5;241m=\u001b[39m\u001b[38;5;124m'\u001b[39m\u001b[38;5;124mbrown\u001b[39m\u001b[38;5;124m'\u001b[39m)\n\u001b[0;32m      6\u001b[0m plt\u001b[38;5;241m.\u001b[39mtitle(\u001b[38;5;124m'\u001b[39m\u001b[38;5;124mBIỂU ĐỒ THỂ HIỆN SỐ LƯỢNG SINH VIÊN THEO TỪNG KHÓA\u001b[39m\u001b[38;5;124m'\u001b[39m)\n\u001b[0;32m      7\u001b[0m plt\u001b[38;5;241m.\u001b[39mgrid(ls\u001b[38;5;241m=\u001b[39m\u001b[38;5;124m'\u001b[39m\u001b[38;5;124m--\u001b[39m\u001b[38;5;124m'\u001b[39m)\n",
      "\u001b[1;31mNameError\u001b[0m: name 'plt' is not defined"
     ]
    }
   ],
   "source": [
    "#Vẽ biểu đồ dạng hàng\n",
    "plt.barh(ten_khoa_x, \n",
    "        so_hs_y,\n",
    "        color='brown')\n",
    "\n",
    "plt.title('BIỂU ĐỒ THỂ HIỆN SỐ LƯỢNG SINH VIÊN THEO TỪNG KHÓA')\n",
    "plt.grid(ls='--')\n",
    "plt.xlabel('Khóa')\n",
    "plt.ylabel('Số lượng')\n",
    "\n",
    "plt.show()\n"
   ]
  },
  {
   "cell_type": "code",
   "execution_count": 23,
   "id": "24311c22",
   "metadata": {},
   "outputs": [
    {
     "ename": "NameError",
     "evalue": "name 'plt' is not defined",
     "output_type": "error",
     "traceback": [
      "\u001b[1;31m---------------------------------------------------------------------------\u001b[0m",
      "\u001b[1;31mNameError\u001b[0m                                 Traceback (most recent call last)",
      "Cell \u001b[1;32mIn[23], line 2\u001b[0m\n\u001b[0;32m      1\u001b[0m \u001b[38;5;66;03m#Vẽ biểu đồ dạng đường\u001b[39;00m\n\u001b[1;32m----> 2\u001b[0m plt\u001b[38;5;241m.\u001b[39mplot(ten_khoa_A,\n\u001b[0;32m      3\u001b[0m         so_hs_y,\n\u001b[0;32m      4\u001b[0m         \u001b[38;5;124m'\u001b[39m\u001b[38;5;124mb-o\u001b[39m\u001b[38;5;124m'\u001b[39m,ms\u001b[38;5;241m=\u001b[39m\u001b[38;5;241m10\u001b[39m)\n\u001b[0;32m      6\u001b[0m plt\u001b[38;5;241m.\u001b[39mtitle(\u001b[38;5;124m'\u001b[39m\u001b[38;5;124mBIỂU ĐỒ THỂ HIỆN SỐ LƯỢNG SINH VIÊN THEO TỪNG KHÓA\u001b[39m\u001b[38;5;124m'\u001b[39m)\n\u001b[0;32m      7\u001b[0m plt\u001b[38;5;241m.\u001b[39mgrid(ls\u001b[38;5;241m=\u001b[39m\u001b[38;5;124m'\u001b[39m\u001b[38;5;124m--\u001b[39m\u001b[38;5;124m'\u001b[39m)\n",
      "\u001b[1;31mNameError\u001b[0m: name 'plt' is not defined"
     ]
    }
   ],
   "source": [
    "#Vẽ biểu đồ dạng đường\n",
    "plt.plot(ten_khoa_A,\n",
    "        so_hs_y,\n",
    "        'b-o',ms=10)\n",
    "\n",
    "plt.title('BIỂU ĐỒ THỂ HIỆN SỐ LƯỢNG SINH VIÊN THEO TỪNG KHÓA')\n",
    "plt.grid(ls='--')\n",
    "plt.xlabel('Khóa')\n",
    "plt.ylabel('Số lượng')\n",
    "\n",
    "plt.show()"
   ]
  },
  {
   "cell_type": "code",
   "execution_count": 25,
   "id": "65f82d14",
   "metadata": {},
   "outputs": [
    {
     "ename": "NameError",
     "evalue": "name 'plt' is not defined",
     "output_type": "error",
     "traceback": [
      "\u001b[1;31m---------------------------------------------------------------------------\u001b[0m",
      "\u001b[1;31mNameError\u001b[0m                                 Traceback (most recent call last)",
      "Cell \u001b[1;32mIn[25], line 2\u001b[0m\n\u001b[0;32m      1\u001b[0m \u001b[38;5;66;03m#Vẽ biểu đồ tròn\u001b[39;00m\n\u001b[1;32m----> 2\u001b[0m plt\u001b[38;5;241m.\u001b[39mpie(so_hs_y,\n\u001b[0;32m      3\u001b[0m        labels\u001b[38;5;241m=\u001b[39mten_khoa_x,\n\u001b[0;32m      4\u001b[0m        autopct\u001b[38;5;241m=\u001b[39m\u001b[38;5;124m'\u001b[39m\u001b[38;5;132;01m%.1f\u001b[39;00m\u001b[38;5;132;01m%%\u001b[39;00m\u001b[38;5;124m'\u001b[39m,\n\u001b[0;32m      5\u001b[0m        wedgeprops\u001b[38;5;241m=\u001b[39m\u001b[38;5;28mdict\u001b[39m(width\u001b[38;5;241m=\u001b[39m\u001b[38;5;241m0.7\u001b[39m, edgecolor\u001b[38;5;241m=\u001b[39m\u001b[38;5;124m'\u001b[39m\u001b[38;5;124mw\u001b[39m\u001b[38;5;124m'\u001b[39m))\n\u001b[0;32m      7\u001b[0m plt\u001b[38;5;241m.\u001b[39mtitle(\u001b[38;5;124m'\u001b[39m\u001b[38;5;124mBIỂU ĐỒ THỂ HIỆN SỐ LƯỢNG SINH VIÊN THEO TỪNG KHÓA\u001b[39m\u001b[38;5;124m'\u001b[39m)\n\u001b[0;32m      8\u001b[0m plt\u001b[38;5;241m.\u001b[39mshow()\n",
      "\u001b[1;31mNameError\u001b[0m: name 'plt' is not defined"
     ]
    }
   ],
   "source": [
    "#Vẽ biểu đồ tròn\n",
    "plt.pie(so_hs_y,\n",
    "       labels=ten_khoa_x,\n",
    "       autopct='%.1f%%',\n",
    "       wedgeprops=dict(width=0.7, edgecolor='w'))\n",
    "\n",
    "plt.title('BIỂU ĐỒ THỂ HIỆN SỐ LƯỢNG SINH VIÊN THEO TỪNG KHÓA')\n",
    "plt.show()"
   ]
  },
  {
   "cell_type": "code",
   "execution_count": null,
   "id": "6079c415",
   "metadata": {},
   "outputs": [],
   "source": []
  },
  {
   "cell_type": "code",
   "execution_count": null,
   "id": "387af9c4",
   "metadata": {},
   "outputs": [],
   "source": []
  },
  {
   "cell_type": "code",
   "execution_count": null,
   "id": "ab8743d7",
   "metadata": {},
   "outputs": [],
   "source": []
  },
  {
   "cell_type": "code",
   "execution_count": null,
   "id": "ce714000",
   "metadata": {},
   "outputs": [],
   "source": []
  },
  {
   "cell_type": "code",
   "execution_count": null,
   "id": "3fc9263f",
   "metadata": {},
   "outputs": [],
   "source": []
  },
  {
   "cell_type": "code",
   "execution_count": null,
   "id": "ddf36885",
   "metadata": {},
   "outputs": [],
   "source": []
  },
  {
   "cell_type": "code",
   "execution_count": null,
   "id": "83e29c97",
   "metadata": {},
   "outputs": [],
   "source": []
  }
 ],
 "metadata": {
  "kernelspec": {
   "display_name": "Python 3 (ipykernel)",
   "language": "python",
   "name": "python3"
  },
  "language_info": {
   "codemirror_mode": {
    "name": "ipython",
    "version": 3
   },
   "file_extension": ".py",
   "mimetype": "text/x-python",
   "name": "python",
   "nbconvert_exporter": "python",
   "pygments_lexer": "ipython3",
   "version": "3.11.5"
  }
 },
 "nbformat": 4,
 "nbformat_minor": 5
}
